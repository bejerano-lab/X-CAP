{
 "cells": [
  {
   "cell_type": "code",
   "execution_count": 6,
   "id": "verbal-italian",
   "metadata": {},
   "outputs": [],
   "source": [
    "def write_vcf_header(f):\n",
    "    f.write(\"##fileformat=VCFv4.1\" + '\\n')\n",
    "    columns=[\"#CHROM\", \"POS\", \"ID\", \"REF\", \"ALT\", \"QUAL\", \"FILTER\", \"INFO\"]\n",
    "    f.write('\\t'.join(columns) + '\\n')\n",
    "\n",
    "def get_attribute_from_info(info_str, key, dtype):\n",
    "    info_list = info_str.split(';')\n",
    "    for attr in info_list:\n",
    "        attr = attr.strip()\n",
    "        if len(attr) != 0:\n",
    "            k, v = attr.split('=')\n",
    "            if k == key:\n",
    "                return dtype(v)\n",
    "    return None"
   ]
  },
  {
   "cell_type": "markdown",
   "id": "acceptable-remains",
   "metadata": {},
   "source": [
    "# D_original training set"
   ]
  },
  {
   "cell_type": "code",
   "execution_count": 1,
   "id": "acquired-imaging",
   "metadata": {},
   "outputs": [],
   "source": [
    "input_fname = \"/cluster/u/rrastogi/ECNN/results/d_original/xcap/train_set/filtered_train.tsv\"\n",
    "output_fname = \"d_original.train.vcf\""
   ]
  },
  {
   "cell_type": "code",
   "execution_count": 11,
   "id": "pressed-petersburg",
   "metadata": {},
   "outputs": [],
   "source": [
    "output_f = open(output_fname, 'w')\n",
    "input_f = open(input_fname, 'r')\n",
    "\n",
    "write_vcf_header(output_f)\n",
    "\n",
    "for line in input_f:\n",
    "    row = line.strip().split('\\t')\n",
    "    label = get_attribute_from_info(row[-1], \"LABEL\", int)\n",
    "    data = row[-8: ]\n",
    "    if label == 1:\n",
    "        hgmd_class = get_attribute_from_info(row[-1], \"CLASS\", str)\n",
    "        assert hgmd_class is not None\n",
    "        output = [\".\", \".\", data[2], \".\", \".\", \".\", \".\", \"LABEL=1\"]\n",
    "    if label == 0:\n",
    "        output = list(data)\n",
    "        output[-1] = \"LABEL=0\"\n",
    "    output_f.write('\\t'.join(output) + '\\n')\n",
    "\n",
    "output_f.close()\n",
    "input_f.close()"
   ]
  },
  {
   "cell_type": "markdown",
   "id": "bacterial-dollar",
   "metadata": {},
   "source": [
    "# D_original test set"
   ]
  },
  {
   "cell_type": "code",
   "execution_count": 12,
   "id": "leading-commission",
   "metadata": {},
   "outputs": [],
   "source": [
    "input_fname = \"/cluster/u/rrastogi/ECNN/results/d_original/preprocess/collate/total_test.tsv\"\n",
    "output_fname = \"d_original.test.vcf\""
   ]
  },
  {
   "cell_type": "code",
   "execution_count": 13,
   "id": "deluxe-teens",
   "metadata": {},
   "outputs": [],
   "source": [
    "output_f = open(output_fname, 'w')\n",
    "input_f = open(input_fname, 'r')\n",
    "\n",
    "write_vcf_header(output_f)\n",
    "\n",
    "for line in input_f:\n",
    "    row = line.strip().split('\\t')\n",
    "    label = get_attribute_from_info(row[-1], \"LABEL\", int)\n",
    "    data = row[-8: ]\n",
    "    if label == 1:\n",
    "        hgmd_class = get_attribute_from_info(row[-1], \"CLASS\", str)\n",
    "        assert hgmd_class is not None\n",
    "        output = [\".\", \".\", data[2], \".\", \".\", \".\", \".\", \"LABEL=1\"]\n",
    "    if label == 0:\n",
    "        output = list(data)\n",
    "        output[-1] = \"LABEL=0\"\n",
    "    output_f.write('\\t'.join(output) + '\\n')\n",
    "\n",
    "output_f.close()\n",
    "input_f.close()"
   ]
  },
  {
   "cell_type": "markdown",
   "id": "british-mozambique",
   "metadata": {},
   "source": [
    "# D_validation"
   ]
  },
  {
   "cell_type": "code",
   "execution_count": 14,
   "id": "knowing-motion",
   "metadata": {},
   "outputs": [],
   "source": [
    "input_fname = \"/cluster/u/rrastogi/ECNN/results/d_validation/preprocess/remove_train/test.tsv\"\n",
    "output_fname = \"d_validation.vcf\""
   ]
  },
  {
   "cell_type": "code",
   "execution_count": 15,
   "id": "concerned-villa",
   "metadata": {},
   "outputs": [],
   "source": [
    "output_f = open(output_fname, 'w')\n",
    "input_f = open(input_fname, 'r')\n",
    "\n",
    "write_vcf_header(output_f)\n",
    "\n",
    "for line in input_f:\n",
    "    row = line.strip().split('\\t')\n",
    "    label = get_attribute_from_info(row[-1], \"LABEL\", int)\n",
    "    data = row[-8: ]\n",
    "    if label == 1:\n",
    "        hgmd_class = get_attribute_from_info(row[-1], \"CLASS\", str)\n",
    "        if hgmd_class is not None:\n",
    "            output = [\".\", \".\", data[2], \".\", \".\", \".\", \".\", \"LABEL=1\"]\n",
    "        else:\n",
    "            output = list(data)\n",
    "            output[-1] = \"LABEL=1\"\n",
    "    if label == 0:\n",
    "        output = list(data)\n",
    "        output[-1] = \"LABEL=0\"\n",
    "    output_f.write('\\t'.join(output) + '\\n')\n",
    "    \n",
    "output_f.close()\n",
    "input_f.close()"
   ]
  },
  {
   "cell_type": "markdown",
   "id": "macro-better",
   "metadata": {},
   "source": [
    "# Control exomes"
   ]
  },
  {
   "cell_type": "code",
   "execution_count": 26,
   "id": "expanded-middle",
   "metadata": {},
   "outputs": [],
   "source": [
    "input_fname = \"/cluster/u/rrastogi/ECNN/dataset/dbGaP/data/stopgains_filtered_with_gt.tsv\"\n",
    "output_fname = \"healthy_IBD_exomes.vcf\""
   ]
  },
  {
   "cell_type": "code",
   "execution_count": 24,
   "id": "important-billy",
   "metadata": {},
   "outputs": [],
   "source": [
    "import sys\n",
    "sys.path.append(\"/cluster/u/rrastogi/ECNN/X-CAP/src/utils\")\n",
    "\n",
    "import comparison_utils\n",
    "import annovar_utils"
   ]
  },
  {
   "cell_type": "code",
   "execution_count": 22,
   "id": "raised-republic",
   "metadata": {},
   "outputs": [
    {
     "name": "stdout",
     "output_type": "stream",
     "text": [
      "getting X-CAP variants\n",
      "getting others' positive variants\n",
      "getting others' negative variants\n"
     ]
    }
   ],
   "source": [
    "train_variants = comparison_utils.get_all_potential_train_variants()"
   ]
  },
  {
   "cell_type": "code",
   "execution_count": 27,
   "id": "changed-necessity",
   "metadata": {},
   "outputs": [],
   "source": [
    "output_f = open(output_fname, 'w')\n",
    "input_f = open(input_fname, 'r')\n",
    "\n",
    "write_vcf_header(output_f)\n",
    "\n",
    "for line in input_f:\n",
    "    if annovar_utils.get_variant_from_line(line) in train_variants:\n",
    "        continue\n",
    "            \n",
    "    row = line.strip().split('\\t')\n",
    "    label = get_attribute_from_info(row[-1], \"LABEL\", int)\n",
    "    assert label == 0\n",
    "    data = row[-8: ]\n",
    "    output_f.write('\\t'.join(data) + '\\n')\n",
    "\n",
    "output_f.close()\n",
    "input_f.close()"
   ]
  },
  {
   "cell_type": "code",
   "execution_count": null,
   "id": "expressed-budget",
   "metadata": {},
   "outputs": [],
   "source": []
  }
 ],
 "metadata": {
  "kernelspec": {
   "display_name": "Python 3",
   "language": "python",
   "name": "python3"
  },
  "language_info": {
   "codemirror_mode": {
    "name": "ipython",
    "version": 3
   },
   "file_extension": ".py",
   "mimetype": "text/x-python",
   "name": "python",
   "nbconvert_exporter": "python",
   "pygments_lexer": "ipython3",
   "version": "3.6.13"
  }
 },
 "nbformat": 4,
 "nbformat_minor": 5
}
